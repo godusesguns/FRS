{
 "cells": [
  {
   "cell_type": "markdown",
   "metadata": {},
   "source": [
    "A Neural Network From Scratch"
   ]
  },
  {
   "cell_type": "code",
   "execution_count": 2,
   "metadata": {},
   "outputs": [],
   "source": [
    "#Importing numpy cause we're probably going to need it later & I like to import all my frameworks from the first cell\n",
    "import numpy as np"
   ]
  },
  {
   "cell_type": "markdown",
   "metadata": {},
   "source": [
    "Forward Propagation I: Creating Neurons From Inputs, Weights & Biases"
   ]
  },
  {
   "cell_type": "code",
   "execution_count": 3,
   "metadata": {},
   "outputs": [
    {
     "name": "stdout",
     "output_type": "stream",
     "text": [
      "[4.8, 1.21, 2.385]\n"
     ]
    }
   ],
   "source": [
    "#First we initialize the inputs\n",
    "inputs= [1, 2, 3, 2.5]\n",
    "\n",
    "#Then we initialize the weights for each output. Since they're only three outputs we initialize three sets of outputs\n",
    "weights1= [0.2, 0.8, -0.5, 1.0]\n",
    "weights2= [0.5, -0.91, 0.26, -0.5]\n",
    "weights3= [-0.26, -0.27, 0.17, 0.87]\n",
    "\n",
    "#Then we initialize a bias for every output. Similar to the weights, we only initialize three biases\n",
    "bias1= 2\n",
    "bias2= 3\n",
    "bias3= 0.5\n",
    "\n",
    "#To get the outputs, we then multipy the inputs to their corresponding weights and add the corresponding biases, repeat for each set\n",
    "output= [inputs[0]*weights1[0] + inputs[1]*weights1[1] + inputs[2]*weights1[2] + inputs[3]*weights1[3] + bias1,\n",
    "inputs[0]*weights2[0] + inputs[1]*weights2[1] + inputs[2]*weights2[2] + inputs[3]*weights2[3] + bias2,\n",
    "inputs[0]*weights3[0] + inputs[1]*weights3[1] + inputs[2]*weights3[2] + inputs[3]*weights3[3] + bias3]\n",
    "print(output)"
   ]
  },
  {
   "cell_type": "code",
   "execution_count": 4,
   "metadata": {},
   "outputs": [],
   "source": [
    "#A simplified method of initializing the weights & biases\n",
    "weights= [[0.2, 0.8, -0.5, 1.0], \n",
    "[0.5, -0.91, 0.26, -0.5], \n",
    "[-0.26, -0.27, 0.17, 0.87]]\n",
    "\n",
    "biases= [2, 3, 0.5]"
   ]
  },
  {
   "cell_type": "markdown",
   "metadata": {},
   "source": [
    "Then It's Time To Code"
   ]
  },
  {
   "cell_type": "code",
   "execution_count": 5,
   "metadata": {},
   "outputs": [
    {
     "name": "stdout",
     "output_type": "stream",
     "text": [
      "[4.8   1.21  2.385]\n"
     ]
    }
   ],
   "source": [
    "#The code below is a method of using For-loops to multiply the weights matrix and add the vector biases\n",
    "#I've commented it out because there's a more efficient method of computing it\n",
    "#Layer_outputs= [] #Outputs of the current neuron layer\n",
    "#for neuron_weights, neuron_bias in zip(weights, biases): #combining the weights & biases\n",
    "#    neuron_output= 0\n",
    "#    for n_input, weight in zip(inputs, neuron_weights):\n",
    "#      neuron_output+= n_input*weight\n",
    "#   neuron_output+= neuron_bias\n",
    "#    Layer_outputs.append(neuron_output)\n",
    "\n",
    "#The code below is a much faster & cleaner method of carrying out the above operation using vectorization\n",
    "layer_outputs= np.dot(weights, inputs) + biases\n",
    "print(layer_outputs)"
   ]
  },
  {
   "cell_type": "markdown",
   "metadata": {},
   "source": [
    "Learning The Dot Product"
   ]
  },
  {
   "cell_type": "code",
   "execution_count": 6,
   "metadata": {},
   "outputs": [
    {
     "name": "stdout",
     "output_type": "stream",
     "text": [
      "4.8\n"
     ]
    }
   ],
   "source": [
    "#we'll first try the dot product using only the first instances of the weights & biases\n",
    "w= weights[0] #Python arrays use zero indexing, i.e They start from 0 to count their elements\n",
    "b= biases[0]  #Ditto\n",
    "o= np.dot(w, inputs) + b #The weights come first due to the laws of matrix multiplication, won't matter rn but will later on\n",
    "print(o)"
   ]
  },
  {
   "cell_type": "markdown",
   "metadata": {},
   "source": [
    "The Concept of Batches & Objects"
   ]
  },
  {
   "cell_type": "code",
   "execution_count": null,
   "metadata": {},
   "outputs": [],
   "source": [
    "#We initialize multiple inputs as batches in order for the network to train & learn more efficiently\n",
    "inputs= [[1, 2, 3, 2.5], \n",
    "[2.0, 5.0, -1.0, 2.0],\n",
    "[-1.5, 2.7, 3.3, -0.8],\n",
    "[]]"
   ]
  }
 ],
 "metadata": {
  "interpreter": {
   "hash": "6d46af94c2bbce495f1e668725902fa517c90b1782bcfe2fce0dd9868df553d3"
  },
  "kernelspec": {
   "display_name": "Python 3.9.7 ('base')",
   "language": "python",
   "name": "python3"
  },
  "language_info": {
   "codemirror_mode": {
    "name": "ipython",
    "version": 3
   },
   "file_extension": ".py",
   "mimetype": "text/x-python",
   "name": "python",
   "nbconvert_exporter": "python",
   "pygments_lexer": "ipython3",
   "version": "3.9.7"
  },
  "orig_nbformat": 4
 },
 "nbformat": 4,
 "nbformat_minor": 2
}
